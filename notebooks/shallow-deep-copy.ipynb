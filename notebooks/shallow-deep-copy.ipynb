{
 "cells": [
  {
   "cell_type": "markdown",
   "metadata": {},
   "source": [
    "This is an investigation on the difference between shallow copy and deep copy.\n",
    "\n",
    "- When `a` is a collection of immutables. Neither shallow copy or deep copy will change the values in the original one.\n",
    "- When `a` is a collection of mutables. Modifying the shallow copy will affect the original one, and not for the deep copy.\n",
    "\n",
    "When dealing with a list of lists, we need to take care of the shallow copy issue.\n",
    "\n",
    "In terms of removing an element of a list inside the list, when shallow copy is used, only **slicing** will not change the original one. pop, remove, and del will all affect the original list.\n",
    "\n",
    "References:\n",
    "- [copy — Shallow and deep copy operations](https://docs.python.org/3.7/library/copy.html)\n",
    "- [Remove the first element from a list in Python](https://www.techiedelight.com/remove-first-item-from-list-python/)"
   ]
  },
  {
   "cell_type": "code",
   "execution_count": 1,
   "metadata": {},
   "outputs": [],
   "source": [
    "import copy"
   ]
  },
  {
   "cell_type": "code",
   "execution_count": 6,
   "metadata": {},
   "outputs": [
    {
     "name": "stdout",
     "output_type": "stream",
     "text": [
      "The original one: \n",
      "a:  [1, 2, 3, 4, 5]\n",
      "Modify the shallow copy: \n",
      "a:  [1, 2, 3, 4, 5]\n",
      "b:  [0, 2, 3, 4, 5]\n",
      "c:  [1, 2, 3, 4, 5]\n",
      "Modify the deep copy: \n",
      "a:  [1, 2, 3, 4, 5]\n",
      "b:  [0, 2, 3, 4, 5]\n",
      "c:  [99, 2, 3, 4, 5]\n"
     ]
    }
   ],
   "source": [
    "## immutable collections\n",
    "a = [1, 2, 3, 4, 5]\n",
    "b = copy.copy(a)\n",
    "c = copy.deepcopy(a)\n",
    "print(\"The original one: \")\n",
    "print('a: ', a)\n",
    "\n",
    "# modify the shallow copy\n",
    "b[0] = 0\n",
    "print(\"Modify the shallow copy: \")\n",
    "print('a: ', a)\n",
    "print('b: ', b)\n",
    "print('c: ', c)\n",
    "\n",
    "# modify the deep copy\n",
    "c[0] = 99\n",
    "print(\"Modify the deep copy: \")\n",
    "print('a: ', a)\n",
    "print('b: ', b)\n",
    "print('c: ', c)"
   ]
  },
  {
   "cell_type": "code",
   "execution_count": 8,
   "metadata": {},
   "outputs": [
    {
     "name": "stdout",
     "output_type": "stream",
     "text": [
      "The original one: \n",
      "a:  [[1, 2], [3, 4]]\n",
      "Modify the shallow copy: \n",
      "a:  [[0, 2], [3, 4]]\n",
      "b:  [[0, 2], [3, 4]]\n",
      "c:  [[1, 2], [3, 4]]\n",
      "Modify the deep copy: \n",
      "a:  [[0, 2], [3, 4]]\n",
      "b:  [[0, 2], [3, 4]]\n",
      "c:  [[99, 2], [3, 4]]\n"
     ]
    }
   ],
   "source": [
    "## mutable collections\n",
    "a = [[1, 2], [3, 4]]\n",
    "b = copy.copy(a)\n",
    "c = copy.deepcopy(a)\n",
    "print(\"The original one: \")\n",
    "print('a: ', a)\n",
    "\n",
    "# modify the shallow copy\n",
    "b[0][0] = 0\n",
    "print(\"Modify the shallow copy: \")\n",
    "print('a: ', a)\n",
    "print('b: ', b)\n",
    "print('c: ', c)\n",
    "\n",
    "# modify the deep copy\n",
    "c[0][0] = 99\n",
    "print(\"Modify the deep copy: \")\n",
    "print('a: ', a)\n",
    "print('b: ', b)\n",
    "print('c: ', c)"
   ]
  },
  {
   "cell_type": "code",
   "execution_count": 15,
   "metadata": {},
   "outputs": [
    {
     "name": "stdout",
     "output_type": "stream",
     "text": [
      "Original: \n",
      "a:  [[1, 2], [3, 4], [5, 6]]\n",
      "Pop method: \n",
      "a:  [[1, 2], [3, 4], [5, 6]]\n",
      "b:  [[3, 4], [5, 6]]\n",
      "Remove method: \n",
      "a:  [[1, 2], [3, 4], [5, 6]]\n",
      "b:  [[3, 4], [5, 6]]\n",
      "Slicing method: \n",
      "a:  [[1, 2], [3, 4], [5, 6]]\n",
      "b:  [[3, 4], [5, 6]]\n",
      "Del method: \n",
      "a:  [[1, 2], [3, 4], [5, 6]]\n",
      "b:  [[3, 4], [5, 6]]\n"
     ]
    }
   ],
   "source": [
    "## remove an element in the shallow copy list, at the immutable level\n",
    "a = [[1, 2], [3, 4], [5, 6]]\n",
    "b = copy.copy(a)\n",
    "print(\"Original: \")\n",
    "print('a: ', a)\n",
    "\n",
    "# pop\n",
    "b.pop(0)\n",
    "print(\"Pop method: \")\n",
    "print('a: ', a)\n",
    "print('b: ', b)\n",
    "\n",
    "# remove\n",
    "b = copy.copy(a)\n",
    "b.remove(b[0])\n",
    "print(\"Remove method: \")\n",
    "print('a: ', a)\n",
    "print('b: ', b)\n",
    "\n",
    "# slicing\n",
    "b = copy.copy(a)\n",
    "b = b[1:]\n",
    "print(\"Slicing method: \")\n",
    "print('a: ', a)\n",
    "print('b: ', b)\n",
    "\n",
    "# del\n",
    "b = copy.copy(a)\n",
    "del b[0]\n",
    "print(\"Del method: \")\n",
    "print('a: ', a)\n",
    "print('b: ', b)"
   ]
  },
  {
   "cell_type": "code",
   "execution_count": 22,
   "metadata": {},
   "outputs": [
    {
     "name": "stdout",
     "output_type": "stream",
     "text": [
      "Pop method: \n",
      "a:  [[2], [3, 4], [5, 6]]\n",
      "b:  [[2], [3, 4], [5, 6]]\n",
      "Remove method: \n",
      "a:  [[2], [3, 4], [5, 6]]\n",
      "b:  [[2], [3, 4], [5, 6]]\n",
      "Slicing method: \n",
      "a:  [[1, 2], [3, 4], [5, 6]]\n",
      "b:  [[2], [3, 4], [5, 6]]\n",
      "Del method: \n",
      "a:  [[2], [3, 4], [5, 6]]\n",
      "b:  [[2], [3, 4], [5, 6]]\n"
     ]
    }
   ],
   "source": [
    "## remove an element in the shallow copy list, at the mutable level\n",
    "# pop\n",
    "a = [[1, 2], [3, 4], [5, 6]]\n",
    "b = a[:]\n",
    "b[0].pop(0)\n",
    "print(\"Pop method: \")\n",
    "print('a: ', a)\n",
    "print('b: ', b)\n",
    "\n",
    "# remove\n",
    "a = [[1, 2], [3, 4], [5, 6]]\n",
    "b = copy.copy(a)\n",
    "b[0].remove(1)\n",
    "print(\"Remove method: \")\n",
    "print('a: ', a)\n",
    "print('b: ', b)\n",
    "\n",
    "# slicing\n",
    "a = [[1, 2], [3, 4], [5, 6]]\n",
    "b = copy.copy(a)\n",
    "b[0] = b[0][1:]\n",
    "print(\"Slicing method: \")\n",
    "print('a: ', a)\n",
    "print('b: ', b)\n",
    "\n",
    "# del\n",
    "a = [[1, 2], [3, 4], [5, 6]]\n",
    "b = copy.copy(a)\n",
    "del b[0][0]\n",
    "print(\"Del method: \")\n",
    "print('a: ', a)\n",
    "print('b: ', b)"
   ]
  },
  {
   "cell_type": "code",
   "execution_count": 60,
   "metadata": {},
   "outputs": [
    {
     "name": "stdout",
     "output_type": "stream",
     "text": [
      "a:  [[1, 2], [3, 4], [5, 6]]\n",
      "b:  [[1, 2], [3, 4], [5, 6]]\n",
      "c:  [[1, 2], [3, 4]]\n",
      "a:  [[99, 99], [3, 4], [5, 6]]\n",
      "b:  [[99, 99], [3, 4], [5, 6]]\n",
      "c:  [[99, 99], [3, 4]]\n",
      "a:  [[99, 99], [3, 4], [5, 6]]\n",
      "b:  [[3, 4], [5, 6]]\n",
      "c:  [[99, 99], [3, 4]]\n",
      "a:  [[99, 99], [3, 4], [5, 6]]\n",
      "b:  [[3, 4], [5, 6]]\n",
      "c:  [[3, 4], [5, 6]]\n",
      "a:  [[99, 99], [99, 99], [5, 6]]\n",
      "b:  [[99, 99], [5, 6]]\n",
      "c:  [[99, 99], [5, 6]]\n",
      "a:  [[99, 99], [99, 99], [5, 6]]\n",
      "b:  [[5, 6]]\n",
      "c:  [[99, 99], [5, 6]]\n"
     ]
    }
   ],
   "source": [
    "## a simulation of minibatch parse\n",
    "# initialization\n",
    "a = [[1, 2], [3, 4], [5, 6]]\n",
    "b = a[:]\n",
    "c= b[:2]\n",
    "print('a: ', a)\n",
    "print('b: ', b)\n",
    "print('c: ', c)\n",
    "\n",
    "# parse_step\n",
    "c[0][0] = 99\n",
    "c[0][1] = 99\n",
    "print('a: ', a)\n",
    "print('b: ', b)\n",
    "print('c: ', c)\n",
    "\n",
    "# remove the completed \n",
    "b.remove([99, 99])\n",
    "print('a: ', a)\n",
    "print('b: ', b)\n",
    "print('c: ', c)\n",
    "\n",
    "# begin a new batch\n",
    "c = b[:2]\n",
    "print('a: ', a)\n",
    "print('b: ', b)\n",
    "print('c: ', c)\n",
    "\n",
    "# parse_step\n",
    "c[0][0] = 99\n",
    "c[0][1] = 99\n",
    "print('a: ', a)\n",
    "print('b: ', b)\n",
    "print('c: ', c)\n",
    "\n",
    "# remove the completed \n",
    "b.remove([99, 99])\n",
    "print('a: ', a)\n",
    "print('b: ', b)\n",
    "print('c: ', c)"
   ]
  },
  {
   "cell_type": "code",
   "execution_count": null,
   "metadata": {},
   "outputs": [],
   "source": []
  }
 ],
 "metadata": {
  "kernelspec": {
   "display_name": "Python 3",
   "language": "python",
   "name": "python3"
  },
  "language_info": {
   "codemirror_mode": {
    "name": "ipython",
    "version": 3
   },
   "file_extension": ".py",
   "mimetype": "text/x-python",
   "name": "python",
   "nbconvert_exporter": "python",
   "pygments_lexer": "ipython3",
   "version": "3.7.6"
  }
 },
 "nbformat": 4,
 "nbformat_minor": 2
}
